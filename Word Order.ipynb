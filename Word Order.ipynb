{
 "cells": [
  {
   "cell_type": "markdown",
   "id": "9984b963",
   "metadata": {},
   "source": [
    "# You are given 'n' words. Some words may repeat. For each word, output its number of occurrences. The output order should correspond with the input order of appearance of the word. See the sample input/output for clarification.\n",
    "\n",
    "# Note: Each input line ends with a \"\\n\" character."
   ]
  },
  {
   "cell_type": "markdown",
   "id": "ca0e68dd",
   "metadata": {},
   "source": [
    "# Input Format\n",
    "\n",
    "# The first line contains the integer, 'n' .\n",
    "# The next 'n' lines each contain a word."
   ]
  },
  {
   "cell_type": "markdown",
   "id": "adf0ac44",
   "metadata": {},
   "source": [
    "# Output Format\n",
    "\n",
    "# Output 2 lines.\n",
    "# On the first line, output the number of distinct words from the input.\n",
    "# On the second line, output the number of occurrences for each distinct word according to their appearance in the input."
   ]
  },
  {
   "cell_type": "markdown",
   "id": "ff33e194",
   "metadata": {},
   "source": [
    "# My logic "
   ]
  },
  {
   "cell_type": "code",
   "execution_count": 44,
   "id": "88ed8ae6",
   "metadata": {},
   "outputs": [
    {
     "name": "stdout",
     "output_type": "stream",
     "text": [
      "4\n",
      "bcdef\n",
      "abcdefg\n",
      "bcde\n",
      "bcdef\n",
      "3\n",
      "2 1 1 "
     ]
    }
   ],
   "source": [
    "from collections import Counter\n",
    "n=int(input())\n",
    "words=[]\n",
    "for i in range(n):\n",
    "    words.append(input())\n",
    "\n",
    "counts=Counter(words)\n",
    "print(len(counts.keys()))\n",
    "for i,j in counts.items():\n",
    "    print(j,end=\" \")  "
   ]
  },
  {
   "cell_type": "markdown",
   "id": "fb0bc8d3",
   "metadata": {},
   "source": [
    "# Other Logic"
   ]
  },
  {
   "cell_type": "code",
   "execution_count": 50,
   "id": "2bd7c382",
   "metadata": {
    "scrolled": true
   },
   "outputs": [
    {
     "name": "stdout",
     "output_type": "stream",
     "text": [
      "4\n",
      "bcdef\n",
      "abcdefg\n",
      "bcde\n",
      "bcdef\n",
      "3\n",
      "2 1 1\n"
     ]
    }
   ],
   "source": [
    "n=int(input())\n",
    "counts={}\n",
    "words=[]\n",
    "for i in range(n):\n",
    "    word=input()\n",
    "    words.append(word)\n",
    "    if word in counts:\n",
    "        counts[word]+=1\n",
    "    else:\n",
    "        counts[word]=1\n",
    "print(len(counts))        \n",
    "print(\" \".join([str(counts[word]) for word in counts]))"
   ]
  },
  {
   "cell_type": "code",
   "execution_count": 52,
   "id": "1b17a8b4",
   "metadata": {},
   "outputs": [
    {
     "name": "stdout",
     "output_type": "stream",
     "text": [
      "4\n",
      "bcdef\n",
      "abcdefg\n",
      "bcde\n",
      "bcdef\n",
      "3\n",
      "2 1 1\n"
     ]
    }
   ],
   "source": [
    "from collections import Counter\n",
    "count=Counter(input() for _ in range(int(input())))\n",
    "print(len(count))\n",
    "print(*count.values())"
   ]
  }
 ],
 "metadata": {
  "kernelspec": {
   "display_name": "Python 3 (ipykernel)",
   "language": "python",
   "name": "python3"
  },
  "language_info": {
   "codemirror_mode": {
    "name": "ipython",
    "version": 3
   },
   "file_extension": ".py",
   "mimetype": "text/x-python",
   "name": "python",
   "nbconvert_exporter": "python",
   "pygments_lexer": "ipython3",
   "version": "3.9.12"
  }
 },
 "nbformat": 4,
 "nbformat_minor": 5
}
