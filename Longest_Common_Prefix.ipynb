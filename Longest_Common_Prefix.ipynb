{
 "cells": [
  {
   "cell_type": "code",
   "execution_count": 2,
   "id": "ba99e77b",
   "metadata": {},
   "outputs": [
    {
     "name": "stdout",
     "output_type": "stream",
     "text": [
      "fl\n"
     ]
    }
   ],
   "source": [
    "list1=[\"flower\",\"flow\",\"flight\"]\n",
    "#list1=['flower','piyushya','mad','fool']\n",
    "list1.sort()\n",
    "left,right=list1[0],list1[-1]\n",
    "i=0\n",
    "while i < len(left) and i < len(right):\n",
    "    if left[i] != right[i]:\n",
    "        break\n",
    "    i+=1\n",
    "if (i>0):\n",
    "    print(left[:i])\n",
    "else:\n",
    "    print(\"\")"
   ]
  }
 ],
 "metadata": {
  "kernelspec": {
   "display_name": "Python 3 (ipykernel)",
   "language": "python",
   "name": "python3"
  },
  "language_info": {
   "codemirror_mode": {
    "name": "ipython",
    "version": 3
   },
   "file_extension": ".py",
   "mimetype": "text/x-python",
   "name": "python",
   "nbconvert_exporter": "python",
   "pygments_lexer": "ipython3",
   "version": "3.9.12"
  }
 },
 "nbformat": 4,
 "nbformat_minor": 5
}
