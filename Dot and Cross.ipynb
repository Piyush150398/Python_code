{
 "cells": [
  {
   "cell_type": "markdown",
   "id": "1f23a157",
   "metadata": {},
   "source": [
    "# Task\n",
    "\n",
    "## You are given two arrays A and B . Both have dimensions of N X N.\n",
    "## Your task is to compute their matrix product.\n",
    "\n",
    "# Input Format\n",
    "\n",
    "## The first line contains the integer N.\n",
    "## The next N lines contains N  space separated integers of array A .\n",
    "## The following N lines contains N space separated integers of array B.\n",
    "\n",
    "# Output Format\n",
    "\n",
    "## Print the matrix multiplication of A and B."
   ]
  },
  {
   "cell_type": "code",
   "execution_count": null,
   "id": "0e78d205",
   "metadata": {},
   "outputs": [],
   "source": [
    "# used case\n",
    "2\n",
    "1 2\n",
    "3 4\n",
    "1 2\n",
    "3 4\n",
    "# output\n",
    "#[[ 7 10]\n",
    "# [15 22]]"
   ]
  },
  {
   "cell_type": "code",
   "execution_count": null,
   "id": "d317af6d",
   "metadata": {},
   "outputs": [],
   "source": [
    "import numpy\n",
    "N=int(input())\n",
    "A=[list(map(int,input().split())) for i in range(N)]\n",
    "B=[list(map(int,input().split())) for i in range(N)]\n",
    "print(numpy.dot(A,B))"
   ]
  }
 ],
 "metadata": {
  "kernelspec": {
   "display_name": "Python 3 (ipykernel)",
   "language": "python",
   "name": "python3"
  },
  "language_info": {
   "codemirror_mode": {
    "name": "ipython",
    "version": 3
   },
   "file_extension": ".py",
   "mimetype": "text/x-python",
   "name": "python",
   "nbconvert_exporter": "python",
   "pygments_lexer": "ipython3",
   "version": "3.9.12"
  }
 },
 "nbformat": 4,
 "nbformat_minor": 5
}
