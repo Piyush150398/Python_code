{
 "cells": [
  {
   "cell_type": "code",
   "execution_count": 15,
   "id": "973fcc5d",
   "metadata": {},
   "outputs": [
    {
     "name": "stdout",
     "output_type": "stream",
     "text": [
      "aShwINI aWaRI\n"
     ]
    }
   ],
   "source": [
    "string='AsHWini AwAri'\n",
    "ans=\"\"\n",
    "for i in range(len(string)):\n",
    "    if string[i] >= \"A\" and string[i] <= \"Z\":\n",
    "        ans+=string[i].lower()\n",
    "    else:\n",
    "        ans+=string[i].upper()\n",
    "print(ans)        "
   ]
  },
  {
   "cell_type": "code",
   "execution_count": null,
   "id": "172bd90a",
   "metadata": {},
   "outputs": [],
   "source": [
    "s='PiYUsh So'\n",
    "string =''\n",
    "for i in s:\n",
    "    if(i.islower()):\n",
    "        j = i.upper()\n",
    "        string = string + j\n",
    "    elif(i.isupper()):\n",
    "        j = i.lower()\n",
    "        string = string + j\n",
    "    else:\n",
    "        string = string + i\n",
    "return string\n"
   ]
  }
 ],
 "metadata": {
  "kernelspec": {
   "display_name": "Python 3 (ipykernel)",
   "language": "python",
   "name": "python3"
  },
  "language_info": {
   "codemirror_mode": {
    "name": "ipython",
    "version": 3
   },
   "file_extension": ".py",
   "mimetype": "text/x-python",
   "name": "python",
   "nbconvert_exporter": "python",
   "pygments_lexer": "ipython3",
   "version": "3.9.12"
  }
 },
 "nbformat": 4,
 "nbformat_minor": 5
}
