{
 "cells": [
  {
   "cell_type": "code",
   "execution_count": null,
   "id": "94ae0531",
   "metadata": {},
   "outputs": [],
   "source": [
    "s='1 2 2 3 4 5 6 7 8  9'\n",
    "#s=\"hello world\"\n",
    "#s='1 w 3 r 4 7g' output='1 W 3 R 4 '\n",
    "list1=s.split(\" \")\n",
    "ans=''\n",
    "for i in list1:\n",
    "    if type(i)==str:\n",
    "        ans+=i.capitalize()+' '\n",
    "    else:\n",
    "        ans+=i\n",
    "print(ans)   "
   ]
  }
 ],
 "metadata": {
  "kernelspec": {
   "display_name": "Python 3 (ipykernel)",
   "language": "python",
   "name": "python3"
  },
  "language_info": {
   "codemirror_mode": {
    "name": "ipython",
    "version": 3
   },
   "file_extension": ".py",
   "mimetype": "text/x-python",
   "name": "python",
   "nbconvert_exporter": "python",
   "pygments_lexer": "ipython3",
   "version": "3.9.12"
  }
 },
 "nbformat": 4,
 "nbformat_minor": 5
}
