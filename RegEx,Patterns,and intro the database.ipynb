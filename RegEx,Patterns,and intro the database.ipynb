{
 "cells": [
  {
   "cell_type": "markdown",
   "id": "2975d804",
   "metadata": {},
   "source": [
    "# Task\n",
    "# Consider a database table, Emails, which has the attributes First Name and Email ID. Given N  rows of data simulating the Emails table, print an alphabetically-ordered list of people whose email address ends in @gamil.com."
   ]
  },
  {
   "cell_type": "markdown",
   "id": "5ecb5542",
   "metadata": {},
   "source": [
    "# Normal Meth"
   ]
  },
  {
   "cell_type": "code",
   "execution_count": 11,
   "id": "0ecefee7",
   "metadata": {
    "scrolled": false
   },
   "outputs": [
    {
     "name": "stdout",
     "output_type": "stream",
     "text": [
      "2\n",
      "Piyush jbdfbabfo@gmail.com\n",
      "Ashwini sdvashvd@yahoo.com\n",
      "Piyush\n"
     ]
    }
   ],
   "source": [
    "N=int(input().strip())\n",
    "ans=[]\n",
    "for i in range(N):\n",
    "    name_email=(input()).rstrip().split()\n",
    "    first_name=name_email[0]\n",
    "    email=name_email[1]\n",
    "    if '@gmail.com' in email:\n",
    "        ans.append(first_name)\n",
    "ans.sort()\n",
    "for i in ans:\n",
    "    print(i)"
   ]
  },
  {
   "cell_type": "markdown",
   "id": "505686e1",
   "metadata": {},
   "source": [
    "# by using Regular expression"
   ]
  },
  {
   "cell_type": "code",
   "execution_count": 14,
   "id": "b64fbed5",
   "metadata": {},
   "outputs": [
    {
     "name": "stdout",
     "output_type": "stream",
     "text": [
      "2\n",
      "Piyush dbasbdiabd@yahoo.com\n",
      "Ashwini badbf@gmail.com\n",
      "Ashwini\n"
     ]
    }
   ],
   "source": [
    "import re\n",
    "N=int(input().strip())\n",
    "ans=[]\n",
    "for i in range(N):\n",
    "    name_email=(input()).rstrip().split()\n",
    "    first_name=name_email[0]\n",
    "    email=name_email[1]\n",
    "    if re.findall('@gmail.com',email):\n",
    "        ans.append(first_name)\n",
    "ans.sort()\n",
    "for i in ans:\n",
    "    print(i)"
   ]
  }
 ],
 "metadata": {
  "kernelspec": {
   "display_name": "Python 3 (ipykernel)",
   "language": "python",
   "name": "python3"
  },
  "language_info": {
   "codemirror_mode": {
    "name": "ipython",
    "version": 3
   },
   "file_extension": ".py",
   "mimetype": "text/x-python",
   "name": "python",
   "nbconvert_exporter": "python",
   "pygments_lexer": "ipython3",
   "version": "3.9.12"
  }
 },
 "nbformat": 4,
 "nbformat_minor": 5
}
