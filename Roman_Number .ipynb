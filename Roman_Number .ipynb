{
 "cells": [
  {
   "cell_type": "markdown",
   "id": "998ab41b",
   "metadata": {},
   "source": [
    "# Roman Number to Number"
   ]
  },
  {
   "cell_type": "markdown",
   "id": "18d9ad68",
   "metadata": {},
   "source": [
    "## so Basic logic behind the roman number program is \n",
    "## if chara taken as input have length as 1 then directly print that number from dictionary, like if we give \"V\" as input then print number as 5.\n",
    "## And if the number are like 4,19,40,99 we have to use the basic formula...\n",
    "## number=number + current_value -2*(Previous_Number)\n",
    "## for example, XIV = 14\n",
    "## as the X is first character so number will have 10\n",
    "## in frist for loop 1 will be added for I ,so number is 11.\n",
    "## in second for loop,\n",
    "## as the V is greater than I so if loop will acts\n",
    "## number= 11 + 5 - 2*(1)"
   ]
  },
  {
   "cell_type": "code",
   "execution_count": 30,
   "id": "e202c3e4",
   "metadata": {
    "scrolled": false
   },
   "outputs": [
    {
     "name": "stdout",
     "output_type": "stream",
     "text": [
      "Enter the string value = XIV\n",
      "Number is = 14\n"
     ]
    }
   ],
   "source": [
    "roman={\"I\":1,\"V\":5,\"X\":10,\"L\":50,\"C\":100,\"D\":500,\"M\":1000}\n",
    "chara=input(\"Enter the string value = \")\n",
    "if len(chara)==1:\n",
    "    number= roman[chara]\n",
    "else:\n",
    "    number=roman[chara[0]]\n",
    "    for i in range(1,len(chara)):\n",
    "        if roman[chara[i]] > roman[chara[i-1]]:\n",
    "            number= number + roman[chara[i]] - 2*roman[chara[i-1]]\n",
    "        else:\n",
    "            number = number + roman[chara[i]]\n",
    "print(f\"Number is = {number}\")            \n",
    "        "
   ]
  },
  {
   "cell_type": "markdown",
   "id": "954632f7",
   "metadata": {},
   "source": [
    "# Another method "
   ]
  },
  {
   "cell_type": "markdown",
   "id": "d5ad3da3",
   "metadata": {},
   "source": [
    "## So basically roman number are written from higest to the lowest from left to right respectively.\n",
    "## Like 12 = XII , 45= XXXXV\n",
    "## there is the case in which we have to change the rule like in case of 4,14,40,99,90.\n",
    "## 44= XXXXIV\n",
    "## here 10+10+10+10 means first four X and then, we have 'I' which is smaller than number after it which is \"V=5\".\n",
    "## so in that case we have consider the number \"I\" as - 1 (Negative of the symbols value)."
   ]
  },
  {
   "cell_type": "code",
   "execution_count": 40,
   "id": "8326ba59",
   "metadata": {},
   "outputs": [
    {
     "name": "stdout",
     "output_type": "stream",
     "text": [
      "Enter the characterXIV\n",
      "14\n"
     ]
    }
   ],
   "source": [
    "roman={\"I\":1,\"V\":5,\"X\":10,\"L\":50,\"C\":100,\"D\":500,\"M\":1000}\n",
    "chara=input(\"Enter the character\")\n",
    "number=0\n",
    "for i in range(len(chara)):\n",
    "    if i+1 < len(chara) and roman[chara[i]] < roman[chara[i+1]]:\n",
    "        number -= roman[chara[i]]\n",
    "    else:\n",
    "        number += roman[chara[i]]\n",
    "print(number)        "
   ]
  },
  {
   "cell_type": "code",
   "execution_count": 39,
   "id": "8f3671d9",
   "metadata": {},
   "outputs": [
    {
     "name": "stdout",
     "output_type": "stream",
     "text": [
      "Enter the characterXIV\n",
      "14\n"
     ]
    }
   ],
   "source": [
    "roman={\"I\":1,\"V\":5,\"X\":10,\"L\":50,\"C\":100,\"D\":500,\"M\":1000}\n",
    "chara=input(\"Enter the character\")\n",
    "number=0\n",
    "for i,j in zip(chara,chara[1:]):\n",
    "    if roman[i] < roman[j]:\n",
    "        number -= roman[i]\n",
    "    else:\n",
    "        number += roman[i]\n",
    "print(number+roman[chara[-1]])        "
   ]
  }
 ],
 "metadata": {
  "kernelspec": {
   "display_name": "Python 3 (ipykernel)",
   "language": "python",
   "name": "python3"
  },
  "language_info": {
   "codemirror_mode": {
    "name": "ipython",
    "version": 3
   },
   "file_extension": ".py",
   "mimetype": "text/x-python",
   "name": "python",
   "nbconvert_exporter": "python",
   "pygments_lexer": "ipython3",
   "version": "3.9.12"
  }
 },
 "nbformat": 4,
 "nbformat_minor": 5
}
