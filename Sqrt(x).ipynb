{
 "cells": [
  {
   "cell_type": "code",
   "execution_count": 20,
   "id": "b3ccd883",
   "metadata": {},
   "outputs": [],
   "source": [
    "def mysqrt(x):\n",
    "    import math as ma\n",
    "    if x > 0 and x != 0:\n",
    "        temp=ma.sqrt(x)\n",
    "        value=ma.floor(temp)\n",
    "        return value\n",
    "        "
   ]
  },
  {
   "cell_type": "code",
   "execution_count": 21,
   "id": "ed239cc4",
   "metadata": {},
   "outputs": [
    {
     "data": {
      "text/plain": [
       "2"
      ]
     },
     "execution_count": 21,
     "metadata": {},
     "output_type": "execute_result"
    }
   ],
   "source": [
    "mysqrt(8)"
   ]
  },
  {
   "cell_type": "code",
   "execution_count": 22,
   "id": "9bd1559c",
   "metadata": {},
   "outputs": [],
   "source": [
    "def ashu(x):\n",
    "    left=0\n",
    "    right=x\n",
    "    while right >= left:\n",
    "        mid=(right+left)//2\n",
    "        if mid*mid <= x:\n",
    "            left=mid+1\n",
    "        else:\n",
    "            right=mid-1\n",
    "    return right        "
   ]
  },
  {
   "cell_type": "code",
   "execution_count": 23,
   "id": "ba6102ad",
   "metadata": {},
   "outputs": [
    {
     "data": {
      "text/plain": [
       "2"
      ]
     },
     "execution_count": 23,
     "metadata": {},
     "output_type": "execute_result"
    }
   ],
   "source": [
    "ashu(8)"
   ]
  }
 ],
 "metadata": {
  "kernelspec": {
   "display_name": "Python 3 (ipykernel)",
   "language": "python",
   "name": "python3"
  },
  "language_info": {
   "codemirror_mode": {
    "name": "ipython",
    "version": 3
   },
   "file_extension": ".py",
   "mimetype": "text/x-python",
   "name": "python",
   "nbconvert_exporter": "python",
   "pygments_lexer": "ipython3",
   "version": "3.9.12"
  }
 },
 "nbformat": 4,
 "nbformat_minor": 5
}
