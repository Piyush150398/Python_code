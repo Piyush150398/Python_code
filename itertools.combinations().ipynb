{
 "cells": [
  {
   "cell_type": "markdown",
   "id": "a7dbd0a0",
   "metadata": {},
   "source": [
    "# itertools.combinations(iterable, r)\n",
    "# This tool returns the  length subsequences of elements from the input iterable.\n",
    "\n",
    "# Combinations are emitted in lexicographic sorted order. So, if the input iterable is sorted, the combination tuples will be produced in sorted order."
   ]
  },
  {
   "cell_type": "markdown",
   "id": "87cf756c",
   "metadata": {},
   "source": [
    "# Task\n",
    "\n",
    "# You are given a string \"S\".\n",
    "# Your task is to print all possible combinations, up to size \"k\" , of the string in lexicographic sorted order."
   ]
  },
  {
   "cell_type": "code",
   "execution_count": 17,
   "id": "f27b4a52",
   "metadata": {
    "scrolled": true
   },
   "outputs": [
    {
     "name": "stdout",
     "output_type": "stream",
     "text": [
      "hack 2\n",
      "h\n",
      "a\n",
      "c\n",
      "k\n",
      "ha\n",
      "hc\n",
      "hk\n",
      "ac\n",
      "ak\n",
      "ck\n"
     ]
    }
   ],
   "source": [
    "from itertools import combinations\n",
    "\n",
    "M,N=input().split()\n",
    "\n",
    "for i in range(1,int(N)+1):\n",
    "    for j in combinations(M,i):\n",
    "        print(\"\".join(j))"
   ]
  }
 ],
 "metadata": {
  "kernelspec": {
   "display_name": "Python 3 (ipykernel)",
   "language": "python",
   "name": "python3"
  },
  "language_info": {
   "codemirror_mode": {
    "name": "ipython",
    "version": 3
   },
   "file_extension": ".py",
   "mimetype": "text/x-python",
   "name": "python",
   "nbconvert_exporter": "python",
   "pygments_lexer": "ipython3",
   "version": "3.9.12"
  }
 },
 "nbformat": 4,
 "nbformat_minor": 5
}
