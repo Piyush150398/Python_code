{
 "cells": [
  {
   "cell_type": "markdown",
   "id": "5eef1ad8",
   "metadata": {},
   "source": [
    "# Today's challenge puts your understanding of nested conditional statements to the test. You already have the knowledge to complete this challenge, but check out the Tutorial tab for a video on testing.\n",
    "\n",
    "# Task\n",
    "# Your local library needs your help! Given the expected and actual return dates for a library book, create a program that calculates the fine (if any). The fee structure is as follows:\n",
    "\n",
    "# If the book is returned on or before the expected return date, no fine will be charged (i.e.: fine=0)\n",
    "# If the book is returned after the expected return day but still within the same calendar month and year as the expected return date,\n",
    "# fine=15*(Number of the days late)\n",
    "# If the book is returned after the expected return month but still within the same calendar year as the expected return date, the \n",
    "# fine=500*(Number of month late)\n",
    "# If the book is returned after the calendar year in which it was expected, there is a fixed fine of fine=10000."
   ]
  },
  {
   "cell_type": "markdown",
   "id": "b2063c17",
   "metadata": {},
   "source": [
    "# Datatime library "
   ]
  },
  {
   "cell_type": "code",
   "execution_count": 15,
   "id": "2069793f",
   "metadata": {},
   "outputs": [
    {
     "name": "stdout",
     "output_type": "stream",
     "text": [
      "9 6 2015\n",
      "6 6 2015\n",
      "45\n"
     ]
    }
   ],
   "source": [
    "#sample inputs\n",
    "#D1,M1,Y1=9,6,2015 # return\n",
    "#D2,M2,Y2=6,6,2015 # due\n",
    "import datetime\n",
    "D1,M1,Y1=(input()).split()\n",
    "D2,M2,Y2=(input()).split()\n",
    "\n",
    "due=datetime.date(int(Y2),int(M2),int(D2))\n",
    "return_date=datetime.date(int(Y1),int(M1),int(D1))\n",
    "\n",
    "result=0\n",
    "if return_date < due:\n",
    "    result+=0 \n",
    "\n",
    "elif (due.month==return_date.month) and (due.year==return_date.year):\n",
    "    result+=15*(return_date.day-due.day)\n",
    "\n",
    "elif (return_date.month > due.month) and (return_date.year==due.year):\n",
    "    result+500*(return_date.month - due.month)\n",
    "\n",
    "elif (return_date.year > due.year):\n",
    "    result+=10000\n",
    "print(result)    "
   ]
  },
  {
   "cell_type": "markdown",
   "id": "71b1831e",
   "metadata": {},
   "source": [
    "# without using library"
   ]
  },
  {
   "cell_type": "code",
   "execution_count": 20,
   "id": "8fb9e950",
   "metadata": {},
   "outputs": [
    {
     "name": "stdout",
     "output_type": "stream",
     "text": [
      "9 6 2015\n",
      "6 6 2015\n",
      "45\n"
     ]
    }
   ],
   "source": [
    "D1,M1,Y1=(input()).split()\n",
    "D2,M2,Y2=(input()).split()\n",
    "\n",
    "fine=0\n",
    "if D1 <= D2 and M1 <= M2 and Y1 <= Y2:\n",
    "    fine+=0\n",
    "elif M1 == M2 and Y1 == Y2:\n",
    "    fine+=15*(int(D1)-int(D2))\n",
    "elif M1 != M2 and Y1==Y2:\n",
    "    fine+=500*(int(M1)-int(M2))\n",
    "elif Y1 > Y2:\n",
    "    fine+=10000\n",
    "print(fine)    "
   ]
  }
 ],
 "metadata": {
  "kernelspec": {
   "display_name": "Python 3 (ipykernel)",
   "language": "python",
   "name": "python3"
  },
  "language_info": {
   "codemirror_mode": {
    "name": "ipython",
    "version": 3
   },
   "file_extension": ".py",
   "mimetype": "text/x-python",
   "name": "python",
   "nbconvert_exporter": "python",
   "pygments_lexer": "ipython3",
   "version": "3.9.12"
  }
 },
 "nbformat": 4,
 "nbformat_minor": 5
}
