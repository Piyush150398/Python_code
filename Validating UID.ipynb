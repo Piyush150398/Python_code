{
 "cells": [
  {
   "cell_type": "markdown",
   "id": "3d66feeb",
   "metadata": {},
   "source": [
    "### ABCXYZ company has up to  employees.\n",
    "### The company decides to create a unique identification number (UID) for each of its employees.\n",
    "### The company has assigned you the task of validating all the randomly generated UIDs.\n",
    "\n",
    "### A valid UID must follow the rules below:\n",
    "\n",
    "### It must contain at least  uppercase English alphabet characters.\n",
    "### It must contain at least  digits ( 0 - 9 ).\n",
    "### It should only contain alphanumeric characters ( a-z ,  A-Z  &  0-9 ).\n",
    "### No character should repeat.\n",
    "### There must be exactly  characters in a valid UID."
   ]
  },
  {
   "cell_type": "code",
   "execution_count": null,
   "id": "eafc2ded",
   "metadata": {},
   "outputs": [],
   "source": [
    "code=input(\"Enter the code here\")"
   ]
  },
  {
   "cell_type": "code",
   "execution_count": 45,
   "id": "c496bcfd",
   "metadata": {},
   "outputs": [
    {
     "name": "stdout",
     "output_type": "stream",
     "text": [
      "Invalid\n"
     ]
    }
   ],
   "source": [
    "#case-1\n",
    "#BQWAILU471-'valid'\n",
    "#115DEF2354-'invalid'\n",
    "\n",
    "#case-2\n",
    "#5AW4F5SKRK-'valid'\n",
    "#W45A55K455-'invalid'\n",
    "\n",
    "#case-3\n",
    "#B1CD102354-'valid'\n",
    "#B1CDEF2354-'invalid'\n",
    "\n",
    "\n",
    "if len(code)==10:\n",
    "    if len(re.findall('[A-Z]',code)) >= 2 and len(re.findall('[0-9]',code)) >= 3:\n",
    "        if code.isalnum()== True:\n",
    "            for i,char in enumerate(code):\n",
    "                if char in code[i+1:]:\n",
    "                    print('Invalid')\n",
    "                    break\n",
    "            else:\n",
    "                print('Valid')\n",
    "        else:\n",
    "            print('Invalid')\n",
    "    else:\n",
    "        print('Invalid')\n",
    "else:\n",
    "    print('Invaid')"
   ]
  }
 ],
 "metadata": {
  "kernelspec": {
   "display_name": "Python 3 (ipykernel)",
   "language": "python",
   "name": "python3"
  },
  "language_info": {
   "codemirror_mode": {
    "name": "ipython",
    "version": 3
   },
   "file_extension": ".py",
   "mimetype": "text/x-python",
   "name": "python",
   "nbconvert_exporter": "python",
   "pygments_lexer": "ipython3",
   "version": "3.9.12"
  }
 },
 "nbformat": 4,
 "nbformat_minor": 5
}
