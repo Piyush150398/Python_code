{
 "cells": [
  {
   "cell_type": "markdown",
   "id": "3739f988",
   "metadata": {},
   "source": [
    "# In this task, we would like for you to appreciate the usefulness of the groupby() function of itertools . To read more about this function,\n",
    "\n",
    "# You are given a string S . Suppose a character 'c' occurs consecutively  times X in the string. Replace these consecutive occurrences of the character 'c' with (X,c)  in the string.\n",
    "\n",
    "# Input Format\n",
    "\n",
    "## A single line of input consisting of the string.\n",
    "\n",
    "# Output Format\n",
    "\n",
    "## A single line of output consisting of the modified string."
   ]
  },
  {
   "cell_type": "code",
   "execution_count": 47,
   "id": "8bb83d52",
   "metadata": {},
   "outputs": [
    {
     "name": "stdout",
     "output_type": "stream",
     "text": [
      "1222311\n",
      "(1, 1) (3, 2) (1, 3) (2, 1) "
     ]
    }
   ],
   "source": [
    "from itertools import groupby\n",
    "for key, group in groupby(input()):\n",
    "    print('({}, {})'.format(len(list(group)), key), end=\" \")"
   ]
  }
 ],
 "metadata": {
  "kernelspec": {
   "display_name": "Python 3 (ipykernel)",
   "language": "python",
   "name": "python3"
  },
  "language_info": {
   "codemirror_mode": {
    "name": "ipython",
    "version": 3
   },
   "file_extension": ".py",
   "mimetype": "text/x-python",
   "name": "python",
   "nbconvert_exporter": "python",
   "pygments_lexer": "ipython3",
   "version": "3.9.12"
  }
 },
 "nbformat": 4,
 "nbformat_minor": 5
}
