{
 "cells": [
  {
   "cell_type": "raw",
   "id": "6fbcaf84",
   "metadata": {},
   "source": [
    "We have seen that lists are mutable (they can be changed), and tuples are immutable (they cannot be changed).\n",
    "\n",
    "Let's try to understand this with an example.\n",
    "\n",
    "You are given an immutable string, and you want to make changes to it."
   ]
  },
  {
   "cell_type": "markdown",
   "id": "aad40344",
   "metadata": {},
   "source": [
    "# Apporach 1"
   ]
  },
  {
   "cell_type": "code",
   "execution_count": 3,
   "id": "050d22e0",
   "metadata": {
    "scrolled": true
   },
   "outputs": [
    {
     "name": "stdout",
     "output_type": "stream",
     "text": [
      "abcdjkiocv\n"
     ]
    }
   ],
   "source": [
    "string='abcdjliocv'\n",
    "l=list(string)\n",
    "l[5]='k'\n",
    "f=''.join(l)\n",
    "print(f)"
   ]
  },
  {
   "cell_type": "markdown",
   "id": "a9055175",
   "metadata": {},
   "source": [
    "# Apporach 2"
   ]
  },
  {
   "cell_type": "code",
   "execution_count": 4,
   "id": "e76c83d5",
   "metadata": {},
   "outputs": [
    {
     "name": "stdout",
     "output_type": "stream",
     "text": [
      "abcdjkiocv\n"
     ]
    }
   ],
   "source": [
    "string='abcdjliocv'\n",
    "string= string[:5] + 'k' + string[6:]\n",
    "print(string)"
   ]
  }
 ],
 "metadata": {
  "kernelspec": {
   "display_name": "Python 3 (ipykernel)",
   "language": "python",
   "name": "python3"
  },
  "language_info": {
   "codemirror_mode": {
    "name": "ipython",
    "version": 3
   },
   "file_extension": ".py",
   "mimetype": "text/x-python",
   "name": "python",
   "nbconvert_exporter": "python",
   "pygments_lexer": "ipython3",
   "version": "3.9.12"
  }
 },
 "nbformat": 4,
 "nbformat_minor": 5
}
