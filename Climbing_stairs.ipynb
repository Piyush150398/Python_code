{
 "cells": [
  {
   "cell_type": "raw",
   "id": "1fa5f527",
   "metadata": {},
   "source": [
    "https://learncodingfast.com/climbing-stairs/ ...Reference"
   ]
  },
  {
   "cell_type": "code",
   "execution_count": 5,
   "id": "481b5670",
   "metadata": {},
   "outputs": [
    {
     "name": "stdout",
     "output_type": "stream",
     "text": [
      "Enter the number6\n",
      "13\n"
     ]
    }
   ],
   "source": [
    "n=int(input('Enter the number'))\n",
    "if n==1 or n==2:\n",
    "    print(n)\n",
    "preprev=1\n",
    "pre=2\n",
    "current=0\n",
    "\n",
    "for step in range(3,n+1):\n",
    "    current=preprev+pre\n",
    "    \n",
    "    preprev=pre\n",
    "    pre=current\n",
    "print(current)    "
   ]
  },
  {
   "cell_type": "code",
   "execution_count": 10,
   "id": "de359cdb",
   "metadata": {},
   "outputs": [
    {
     "name": "stdout",
     "output_type": "stream",
     "text": [
      "Enter the number0\n",
      "0\n",
      "2\n"
     ]
    }
   ],
   "source": [
    "n=int(input(\"Enter the number\"))\n",
    "if n <= 1:\n",
    "    print(0)\n",
    "else:\n",
    "    first=0\n",
    "    second=1\n",
    "    output=0\n",
    "    for i in range(1,n):\n",
    "        output=first+second\n",
    "        \n",
    "        first=second\n",
    "        second=output\n",
    "print(output)        "
   ]
  }
 ],
 "metadata": {
  "kernelspec": {
   "display_name": "Python 3 (ipykernel)",
   "language": "python",
   "name": "python3"
  },
  "language_info": {
   "codemirror_mode": {
    "name": "ipython",
    "version": 3
   },
   "file_extension": ".py",
   "mimetype": "text/x-python",
   "name": "python",
   "nbconvert_exporter": "python",
   "pygments_lexer": "ipython3",
   "version": "3.9.12"
  }
 },
 "nbformat": 4,
 "nbformat_minor": 5
}
