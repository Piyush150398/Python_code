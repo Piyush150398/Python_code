{
 "cells": [
  {
   "cell_type": "raw",
   "id": "ecb892e0",
   "metadata": {},
   "source": [
    "suppose,\n",
    "nums1=[1,2,3,0,0,0]\n",
    "nums2=[2,5,6]\n",
    "\n",
    "m=3\n",
    "n=3\n",
    "\n",
    "so here we can't go by regular method,thats why...\n",
    "            \n",
    "suppose there are three pointer\n",
    "p1=m-1 , this will at the last of the nums1 means at nums1[2]=3 where the last non-zero element is there\n",
    "p2=n-1 , this will be at the last of the nums2 means at nums[2]=6 \n",
    "p=m+n-1 , this will be at the last of nums1 means at nums1[5]=0\n",
    "\n",
    "so while p1 >= 0 and p2 >=0 , we have run this loop until one off the gives -1 values where loop breaks\n",
    "\n",
    "now if nums1[p1] < nums2[p2] , so here we are checking every time is the number in nums1 is grater than nums2 \n",
    "\n",
    "and if it is then , assign that number to nums1[p] (which is last number of nums1) = nums2[p2] and reduce both pointer \n",
    "(p2-1),(p-1)\n",
    "\n",
    "and if it is not then , assign that number of nums1[p]=nums[p2] and reduce the both pointer.\n",
    "\n",
    "after that the the most important step.\n",
    "if one of the p1 or p2 out truns out to be zero then we have add the remaining element as it is to nums1\n",
    "\n",
    "while p1 >=0:\n",
    "     nums1[p]=nums1[p1]\n",
    "     p-=1\n",
    "     p1-=1\n",
    "while p2 >=0:\n",
    "     nums1[p]=nums2[p2]\n",
    "     p-=1\n",
    "     p2-=1"
   ]
  },
  {
   "cell_type": "code",
   "execution_count": 27,
   "id": "e03e255d",
   "metadata": {},
   "outputs": [
    {
     "name": "stdout",
     "output_type": "stream",
     "text": [
      "[1, 2]\n"
     ]
    }
   ],
   "source": [
    "#case 1\n",
    "#nums1=[1,2,3,0,0,0]\n",
    "#nums2=[2,5,6]\n",
    "\n",
    "#m=3\n",
    "#n=3\n",
    "\n",
    "#case2\n",
    "#nums1=[0,0,0,0,0]\n",
    "#nums2=[1,2,3,4,5]\n",
    "\n",
    "#m=0\n",
    "#n=5\n",
    "\n",
    "#case3\n",
    "nums1=[2,0]\n",
    "nums2=[1]\n",
    "\n",
    "m=1\n",
    "n=1\n",
    "\n",
    "\n",
    "p1=m-1\n",
    "p2=n-1\n",
    "p=m+n-1\n",
    "\n",
    "while p1 >= 0 and p2 >= 0:\n",
    "    if nums1[p1] < nums2[p2]:\n",
    "        nums1[p]=nums2[p2]\n",
    "        p2-=1\n",
    "    else:\n",
    "        nums1[p]=nums1[p1]\n",
    "        p1-=1\n",
    "    p-=1\n",
    "while p1 >=0:\n",
    "    nums1[p]=nums1[p1]\n",
    "    p1-=1\n",
    "    p-=1\n",
    "while p2 >=0:\n",
    "    nums1[p]=nums2[p2]\n",
    "    p2-=1\n",
    "    p-=1\n",
    "print(nums1)    "
   ]
  }
 ],
 "metadata": {
  "kernelspec": {
   "display_name": "Python 3 (ipykernel)",
   "language": "python",
   "name": "python3"
  },
  "language_info": {
   "codemirror_mode": {
    "name": "ipython",
    "version": 3
   },
   "file_extension": ".py",
   "mimetype": "text/x-python",
   "name": "python",
   "nbconvert_exporter": "python",
   "pygments_lexer": "ipython3",
   "version": "3.9.12"
  }
 },
 "nbformat": 4,
 "nbformat_minor": 5
}
