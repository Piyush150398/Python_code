{
 "cells": [
  {
   "cell_type": "markdown",
   "id": "253fb6c8",
   "metadata": {},
   "source": [
    "# Task\n",
    "# Given a string,S, of length N that is indexed from 0 to N-1 , print its even-indexed and odd-indexed characters as  2 space-separated strings on a single line (see the Sample below for more detail).\n",
    "\n",
    "# Note: 0 is considered to be an even index.\n",
    "\n",
    "# Example\n",
    "# s= adbecf\n",
    "# Print abc def\n",
    "\n",
    "# Input Format\n",
    "\n",
    "# The first line contains an integer, T (the number of test cases).Each line i of the T subsequent lines contain a string, S."
   ]
  },
  {
   "cell_type": "code",
   "execution_count": 1,
   "id": "1aa16e87",
   "metadata": {
    "scrolled": true
   },
   "outputs": [
    {
     "name": "stdout",
     "output_type": "stream",
     "text": [
      "2\n",
      "Hacker\n",
      "Rank\n",
      "Hce akr\n",
      "Rn ak\n"
     ]
    }
   ],
   "source": [
    "# Enter your code here. Read input from STDIN. Print output to STDOUT\n",
    "\n",
    "N= int(input())\n",
    "list1=[input() for i in range(N)]\n",
    "\n",
    "def review(word):\n",
    "    EvEn = \"\"\n",
    "    Odd = \"\"\n",
    "    for i,j in enumerate(word):\n",
    "        if i%2==0:\n",
    "            EvEn+=j\n",
    "        else:\n",
    "            Odd+=j\n",
    "    return EvEn+\" \"+Odd   \n",
    "  \n",
    "ans=[review(i) for i in list1]\n",
    "for i in ans:\n",
    "    print(i)"
   ]
  },
  {
   "cell_type": "code",
   "execution_count": 10,
   "id": "bfa5c3c8",
   "metadata": {},
   "outputs": [
    {
     "name": "stdout",
     "output_type": "stream",
     "text": [
      "2\n",
      "hacker\n",
      "rank\n",
      "hce akr\n",
      "rn ak\n"
     ]
    }
   ],
   "source": [
    "N= int(input())\n",
    "list1=[input() for i in range(N)]\n",
    "\n",
    "def review2(word):\n",
    "    even=[j for i,j in enumerate(word) if i%2==0 ]\n",
    "    odd = [j for i,j in enumerate(word) if i%2!=0 ]\n",
    "    even=\"\".join(even)\n",
    "    odd=\"\".join(odd)\n",
    "    return even+\" \"+odd\n",
    "\n",
    "ans=[review(i) for i in list1]\n",
    "for i in ans:\n",
    "    print(i)"
   ]
  }
 ],
 "metadata": {
  "kernelspec": {
   "display_name": "Python 3 (ipykernel)",
   "language": "python",
   "name": "python3"
  },
  "language_info": {
   "codemirror_mode": {
    "name": "ipython",
    "version": 3
   },
   "file_extension": ".py",
   "mimetype": "text/x-python",
   "name": "python",
   "nbconvert_exporter": "python",
   "pygments_lexer": "ipython3",
   "version": "3.9.12"
  }
 },
 "nbformat": 4,
 "nbformat_minor": 5
}
