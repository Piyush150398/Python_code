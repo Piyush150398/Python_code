{
 "cells": [
  {
   "cell_type": "raw",
   "id": "b758bddc",
   "metadata": {},
   "source": [
    "Objective\n",
    "In this challenge, we're going to learn about the difference between a class and an instance; because this is an Object Oriented concept, it's only enabled in certain languages. Check out the Tutorial tab for learning materials and an instructional video!\n",
    "\n",
    "Task\n",
    "Write a Person class with an instance variable, age , and a constructor that takes an integer, initial_age , as a parameter. The constructor must assign initial_age to age after confirming the argument passed as initial_age is not negative; if a negative argument is passed as initial_age, the constructor should set age to 0 and print Age is not valid, setting age to 0.. In addition, you must write the following instance methods:\n",
    "\n",
    "1)yearPasses() should increase the age instance variable by 1.\n",
    "2)mIOld() should perform the following conditional actions:\n",
    "  If age < 13, print You are young..\n",
    "  If age >= 13 and age < 18, print You are a teenager..\n",
    "  Otherwise, print You are old..\n",
    "To help you learn by example and complete this challenge, much of the code is provided for you, but you'll be writing everything in the future. The code that creates each instance of your Person class is in the main method. Don't worry if you don't understand it all quite yet!\n",
    "\n",
    "Note: Do not remove or alter the stub code in the editor."
   ]
  },
  {
   "cell_type": "code",
   "execution_count": 7,
   "id": "cff238f0",
   "metadata": {},
   "outputs": [],
   "source": [
    "class Person:\n",
    "    def __init__(self,initial_age):\n",
    "        if initial_age > 0:\n",
    "            self.age=inital_age\n",
    "        else:\n",
    "            self.age=0\n",
    "            return print('Age is not valid, setting age to 0.')\n",
    "    def yearPasses(self):\n",
    "        self.age=self.age+1\n",
    "        return self.age\n",
    "    \n",
    "    def amIOld(self):\n",
    "        if self.age < 13:\n",
    "            return print('You are young.')\n",
    "        elif self.age >= 13 and self.age < 18:\n",
    "            return print('You are a teenager.')\n",
    "        else:\n",
    "            return print('You are old.')\n",
    "        "
   ]
  },
  {
   "cell_type": "code",
   "execution_count": 12,
   "id": "8dde1324",
   "metadata": {
    "scrolled": true
   },
   "outputs": [
    {
     "name": "stdout",
     "output_type": "stream",
     "text": [
      "4\n",
      "-1\n",
      "Age is not valid, setting age to 0.\n",
      "You are young.\n",
      "You are young.\n",
      "\n",
      "10\n",
      "You are young.\n",
      "You are a teenager.\n",
      "\n",
      "16\n",
      "You are a teenager.\n",
      "You are old.\n",
      "\n",
      "18\n",
      "You are old.\n",
      "You are old.\n",
      "\n"
     ]
    }
   ],
   "source": [
    "t= int(input())\n",
    "for i in range(0, t):\n",
    "    age = int(input())         \n",
    "    p = Person(age)  \n",
    "    p.amIOld()\n",
    "    for j in range(0, 3):\n",
    "        p.yearPasses()       \n",
    "    p.amIOld()\n",
    "    print(\"\")"
   ]
  },
  {
   "cell_type": "raw",
   "id": "16900f0e",
   "metadata": {},
   "source": [
    "Test Case 0: initial_age=-1\n",
    "Because , initial_age <0 our code must set age to 0 and print the \"Age is not valid...\" message followed by the young message. Three years pass and , so we print the young message again.\n",
    "\n",
    "Test Case 1: initial_age=10\n",
    "Because initial_age < 13, our code should print that the person is young. Three years pass and age=16 , so we print that the person is now a teenager.\n",
    "\n",
    "Test Case 2: initial_age=16\n",
    "Because 13 <= initial_age <18, our code should print that the person is a teenager. Three years pass and age=19, so we print that the person is old.\n",
    "\n",
    "Test Case 3: initial_age=18\n",
    "Because , our code should print that the person is old. Three years pass and the person is still old at , so we print the old message again."
   ]
  }
 ],
 "metadata": {
  "kernelspec": {
   "display_name": "Python 3 (ipykernel)",
   "language": "python",
   "name": "python3"
  },
  "language_info": {
   "codemirror_mode": {
    "name": "ipython",
    "version": 3
   },
   "file_extension": ".py",
   "mimetype": "text/x-python",
   "name": "python",
   "nbconvert_exporter": "python",
   "pygments_lexer": "ipython3",
   "version": "3.9.12"
  }
 },
 "nbformat": 4,
 "nbformat_minor": 5
}
