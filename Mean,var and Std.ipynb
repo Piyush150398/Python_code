{
 "cells": [
  {
   "cell_type": "code",
   "execution_count": null,
   "id": "9498016d",
   "metadata": {},
   "outputs": [],
   "source": [
    "# Used Case \n",
    "#2 2\n",
    "#1 2\n",
    "#3 4\n",
    "# output\n",
    "#[ 1.5  3.5]\n",
    "#[ 1.  1.]\n",
    "#1.11803398875"
   ]
  },
  {
   "cell_type": "code",
   "execution_count": null,
   "id": "0a9963aa",
   "metadata": {},
   "outputs": [],
   "source": [
    "import numpy\n",
    "rows,columns=map(int,input().split())\n",
    "my_array=[list(map(int,input().split())) for i in range(rows)]\n",
    "print(numpy.mean(my_array,axis=1))\n",
    "print(numpy.var(my_array,axis=0))\n",
    "print(round(numpy.std(my_array,axis=None),11))"
   ]
  }
 ],
 "metadata": {
  "kernelspec": {
   "display_name": "Python 3 (ipykernel)",
   "language": "python",
   "name": "python3"
  },
  "language_info": {
   "codemirror_mode": {
    "name": "ipython",
    "version": 3
   },
   "file_extension": ".py",
   "mimetype": "text/x-python",
   "name": "python",
   "nbconvert_exporter": "python",
   "pygments_lexer": "ipython3",
   "version": "3.9.12"
  }
 },
 "nbformat": 4,
 "nbformat_minor": 5
}
