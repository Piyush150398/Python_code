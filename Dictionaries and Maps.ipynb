{
 "cells": [
  {
   "cell_type": "code",
   "execution_count": 17,
   "id": "9eb99bd8",
   "metadata": {},
   "outputs": [
    {
     "name": "stdout",
     "output_type": "stream",
     "text": [
      "2\n",
      "Piyush\n",
      "12854845\n",
      "Ashwini\n",
      "454689682\n",
      "Piyush\n",
      "Pankaj\n",
      "Piyush=12854845\n",
      "Not found\n"
     ]
    }
   ],
   "source": [
    "n=int(input())\n",
    "dict1={}\n",
    "list1=[]\n",
    "for i in range(n):\n",
    "    key,value=input(),int(input())\n",
    "    dict1.update({key:value})\n",
    "  \n",
    "for i in range(n):\n",
    "    Name_input=input()\n",
    "    list1.append(Name_input) \n",
    "  \n",
    "for i in list1:\n",
    "    if i in dict1:\n",
    "        print(f\"{i}={dict1[i]}\")\n",
    "    else:\n",
    "        print(\"Not found\")   "
   ]
  }
 ],
 "metadata": {
  "kernelspec": {
   "display_name": "Python 3 (ipykernel)",
   "language": "python",
   "name": "python3"
  },
  "language_info": {
   "codemirror_mode": {
    "name": "ipython",
    "version": 3
   },
   "file_extension": ".py",
   "mimetype": "text/x-python",
   "name": "python",
   "nbconvert_exporter": "python",
   "pygments_lexer": "ipython3",
   "version": "3.9.12"
  }
 },
 "nbformat": 4,
 "nbformat_minor": 5
}
