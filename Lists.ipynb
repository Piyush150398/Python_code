{
 "cells": [
  {
   "cell_type": "code",
   "execution_count": 5,
   "id": "227f4f49",
   "metadata": {},
   "outputs": [
    {
     "name": "stdout",
     "output_type": "stream",
     "text": [
      "3\n",
      "insert 0 2\n",
      "append 9\n",
      "print\n",
      "[2, 9]\n"
     ]
    }
   ],
   "source": [
    "N=int(input())\n",
    "L=[]\n",
    "for i in range(0,N):\n",
    "    cmd=input().split()\n",
    "    if cmd[0]==\"insert\":\n",
    "        L.insert(int(cmd[1]),int(cmd[2]))\n",
    "    elif cmd[0]==\"print\":\n",
    "        print(L)\n",
    "    elif cmd[0]==\"remove\":\n",
    "        L.remove(int(cmd[1])) \n",
    "    elif cmd[0]==\"append\":\n",
    "        L.append(int(cmd[1])) \n",
    "    elif cmd[0]=='sort':\n",
    "        L.sort() \n",
    "    elif cmd[0]==\"pop\":\n",
    "        L.pop()\n",
    "    else:\n",
    "        L.reverse() "
   ]
  }
 ],
 "metadata": {
  "kernelspec": {
   "display_name": "Python 3 (ipykernel)",
   "language": "python",
   "name": "python3"
  },
  "language_info": {
   "codemirror_mode": {
    "name": "ipython",
    "version": 3
   },
   "file_extension": ".py",
   "mimetype": "text/x-python",
   "name": "python",
   "nbconvert_exporter": "python",
   "pygments_lexer": "ipython3",
   "version": "3.9.12"
  }
 },
 "nbformat": 4,
 "nbformat_minor": 5
}
