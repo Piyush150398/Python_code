{
 "cells": [
  {
   "cell_type": "markdown",
   "id": "4e16bab1",
   "metadata": {},
   "source": [
    "# There is an array of 'n' integers. There are also 2 disjoint sets, A and B, each containing 'm' integers. You like all the integers in set 'A' and dislike all the integers in set 'B'. Your initial happiness is 0. For each 'i' integer in the array, if i belongs to 'A' , you add 1 to your  happiness. If i belongs to 'B', you add -1 to your happiness. Otherwise, your happiness does not change. Output your final happiness at the end."
   ]
  },
  {
   "cell_type": "markdown",
   "id": "bd62a882",
   "metadata": {},
   "source": [
    "# Note: Since  'A' and 'B' are sets, they have no repeated elements. However, the array might contain duplicate elements."
   ]
  },
  {
   "cell_type": "markdown",
   "id": "12e95212",
   "metadata": {},
   "source": [
    "# Input Format\n",
    "\n",
    "# The first line contains 'n' integers  and 'm' separated by a space.\n",
    "# The second line contains 'n' integers, the elements of the array.\n",
    "# The third and fourth lines contain 'm'  integers, 'A' and   'B', respectively."
   ]
  },
  {
   "cell_type": "code",
   "execution_count": 1,
   "id": "efefa408",
   "metadata": {},
   "outputs": [
    {
     "name": "stdout",
     "output_type": "stream",
     "text": [
      "3 2\n",
      "1 5 3\n",
      "3 1\n",
      "5 7\n",
      "1\n"
     ]
    }
   ],
   "source": [
    "n,m=map(int,input().split())\n",
    "array=map(int,input().split())\n",
    "A=set(map(int,input().split()))\n",
    "B=set(map(int,input().split()))\n",
    "\n",
    "print(sum((i in A) - (i in B) for i in array))"
   ]
  }
 ],
 "metadata": {
  "kernelspec": {
   "display_name": "Python 3 (ipykernel)",
   "language": "python",
   "name": "python3"
  },
  "language_info": {
   "codemirror_mode": {
    "name": "ipython",
    "version": 3
   },
   "file_extension": ".py",
   "mimetype": "text/x-python",
   "name": "python",
   "nbconvert_exporter": "python",
   "pygments_lexer": "ipython3",
   "version": "3.9.12"
  }
 },
 "nbformat": 4,
 "nbformat_minor": 5
}
