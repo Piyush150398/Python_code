{
 "cells": [
  {
   "cell_type": "code",
   "execution_count": 1,
   "id": "953de5b2",
   "metadata": {},
   "outputs": [],
   "source": [
    "string='ABCDEFGHIJKLIMNOQRSTUVWXYZ'"
   ]
  },
  {
   "cell_type": "code",
   "execution_count": 3,
   "id": "a6a81680",
   "metadata": {},
   "outputs": [],
   "source": [
    "list2=list(string)"
   ]
  },
  {
   "cell_type": "code",
   "execution_count": 8,
   "id": "1bfa8564",
   "metadata": {
    "scrolled": true
   },
   "outputs": [
    {
     "name": "stdout",
     "output_type": "stream",
     "text": [
      "ABCD\n"
     ]
    }
   ],
   "source": [
    "print(\"\".join(list2[:4]))"
   ]
  },
  {
   "cell_type": "code",
   "execution_count": 9,
   "id": "6dd5558b",
   "metadata": {},
   "outputs": [
    {
     "name": "stdout",
     "output_type": "stream",
     "text": [
      "EFGH\n"
     ]
    }
   ],
   "source": [
    "print(\"\".join(list2[4:8]))"
   ]
  },
  {
   "cell_type": "code",
   "execution_count": 11,
   "id": "a641022e",
   "metadata": {},
   "outputs": [
    {
     "name": "stdout",
     "output_type": "stream",
     "text": [
      "IJKL\n"
     ]
    }
   ],
   "source": [
    "print(\"\".join(list2[8:12]))"
   ]
  },
  {
   "cell_type": "code",
   "execution_count": 19,
   "id": "2032aacf",
   "metadata": {},
   "outputs": [
    {
     "name": "stdout",
     "output_type": "stream",
     "text": [
      "ABCD\n",
      "EFGH\n",
      "IJKL\n",
      "IMNO\n",
      "QRST\n",
      "UVWX\n",
      "YZ\n"
     ]
    }
   ],
   "source": [
    "string='ABCDEFGHIJKLIMNOQRSTUVWXYZ'\n",
    "max_len=4\n",
    "start=0\n",
    "end=max_len\n",
    "result=''\n",
    "while end < len(string):\n",
    "    substring=string[start:end]\n",
    "    result=result+substring+\"\\n\"\n",
    "    start=end\n",
    "    end=end+max_len\n",
    "result=result+string[start:]\n",
    "print(result)\n",
    "    "
   ]
  }
 ],
 "metadata": {
  "kernelspec": {
   "display_name": "Python 3 (ipykernel)",
   "language": "python",
   "name": "python3"
  },
  "language_info": {
   "codemirror_mode": {
    "name": "ipython",
    "version": 3
   },
   "file_extension": ".py",
   "mimetype": "text/x-python",
   "name": "python",
   "nbconvert_exporter": "python",
   "pygments_lexer": "ipython3",
   "version": "3.9.12"
  }
 },
 "nbformat": 4,
 "nbformat_minor": 5
}
