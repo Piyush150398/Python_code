{
 "cells": [
  {
   "cell_type": "markdown",
   "id": "54318ceb",
   "metadata": {},
   "source": [
    "# Given the names and grades for each student in a class of N students, store them in a nested list and print the name(s) of any student(s) having the second lowest grade.\n",
    "\n",
    "# Note: If there are multiple students with the second lowest grade, order their names alphabetically and print each name on a new line."
   ]
  },
  {
   "cell_type": "code",
   "execution_count": null,
   "id": "8039efaf",
   "metadata": {},
   "outputs": [],
   "source": [
    "# used case\n",
    "#5\n",
    "#Harry\n",
    "#37.21\n",
    "#Berry\n",
    "#37.21\n",
    "#Tine\n",
    "#37.2\n",
    "#Akriti\n",
    "#41\n",
    "#Harsh\n",
    "#39\n",
    "#Output\n",
    "#Berry\n",
    "#Harry"
   ]
  },
  {
   "cell_type": "code",
   "execution_count": 98,
   "id": "4fb32245",
   "metadata": {
    "scrolled": true
   },
   "outputs": [
    {
     "name": "stdout",
     "output_type": "stream",
     "text": [
      "5\n",
      "Harry\n",
      "37.21\n",
      "Berry\n",
      "37.21\n",
      "Tine\n",
      "37.2\n",
      "Akriti\n",
      "41\n",
      "Harsh\n",
      "39\n",
      "Berry\n",
      "Harry\n"
     ]
    }
   ],
   "source": [
    "list1=[]\n",
    "score_1=[]\n",
    "for i in range(int(input())):\n",
    "    name=input()\n",
    "    score=float(input())\n",
    "    list1.append([name,score])\n",
    "    score_1.append(score)\n",
    "list2=set(score_1)\n",
    "list3=list(list2)\n",
    "list3.sort()\n",
    "value=list3[1]\n",
    "name=[]\n",
    "for i in range(len(list1)):\n",
    "    if value in list1[i]:\n",
    "        name.append(list1[i][0])\n",
    "name.sort()\n",
    "for i in name:\n",
    "    print(i)"
   ]
  },
  {
   "cell_type": "code",
   "execution_count": null,
   "id": "206e97c0",
   "metadata": {},
   "outputs": [],
   "source": [
    "list3=sorted(list(set(score)))"
   ]
  }
 ],
 "metadata": {
  "kernelspec": {
   "display_name": "Python 3 (ipykernel)",
   "language": "python",
   "name": "python3"
  },
  "language_info": {
   "codemirror_mode": {
    "name": "ipython",
    "version": 3
   },
   "file_extension": ".py",
   "mimetype": "text/x-python",
   "name": "python",
   "nbconvert_exporter": "python",
   "pygments_lexer": "ipython3",
   "version": "3.9.12"
  }
 },
 "nbformat": 4,
 "nbformat_minor": 5
}
