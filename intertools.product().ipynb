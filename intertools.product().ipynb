{
 "cells": [
  {
   "cell_type": "markdown",
   "id": "c36fec74",
   "metadata": {},
   "source": [
    "# This tool computes the cartesian product of input iterables.It is equivalent to nested for-loops.For example, product(A, B) returns the same as ((x,y) for x in A for y in B)."
   ]
  },
  {
   "cell_type": "code",
   "execution_count": null,
   "id": "80449c5f",
   "metadata": {},
   "outputs": [],
   "source": [
    "# "
   ]
  },
  {
   "cell_type": "code",
   "execution_count": 5,
   "id": "15db9e5f",
   "metadata": {},
   "outputs": [
    {
     "name": "stdout",
     "output_type": "stream",
     "text": [
      "1 2\n",
      "2 3\n",
      "(1, 2),(1, 3),(2, 2),(2, 3),"
     ]
    }
   ],
   "source": [
    "from itertools import product\n",
    "\n",
    "A = list(map(int,input().split()))\n",
    "B = list(map(int,input().split()))\n",
    "product_ans=product(A,B)\n",
    "\n",
    "for i in product_ans:\n",
    "    print(i,end=\",\")"
   ]
  }
 ],
 "metadata": {
  "kernelspec": {
   "display_name": "Python 3 (ipykernel)",
   "language": "python",
   "name": "python3"
  },
  "language_info": {
   "codemirror_mode": {
    "name": "ipython",
    "version": 3
   },
   "file_extension": ".py",
   "mimetype": "text/x-python",
   "name": "python",
   "nbconvert_exporter": "python",
   "pygments_lexer": "ipython3",
   "version": "3.9.12"
  }
 },
 "nbformat": 4,
 "nbformat_minor": 5
}
